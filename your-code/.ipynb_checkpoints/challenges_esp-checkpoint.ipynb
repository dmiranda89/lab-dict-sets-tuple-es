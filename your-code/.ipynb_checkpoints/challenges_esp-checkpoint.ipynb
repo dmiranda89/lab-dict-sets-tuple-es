{
 "cells": [
  {
   "cell_type": "markdown",
   "metadata": {},
   "source": [
    "## Desafío 1: Tuplas\n",
    "\n",
    "#### ¿Sabías que puedes crear tuplas con solo un elemento?\n",
    "\n",
    "**En la celda de abajo, define una variable `tup` con un único elemento `\"I\"`.**"
   ]
  },
  {
   "cell_type": "code",
   "execution_count": 12,
   "metadata": {},
   "outputs": [],
   "source": [
    "tup = ( \"I\", )\n"
   ]
  },
  {
   "cell_type": "markdown",
   "metadata": {},
   "source": [
    "#### Imprime el tipo de `tup`.\n",
    "\n",
    "Asegúrate de que su tipo sea correcto (es decir, *tuple* en lugar de *str*)."
   ]
  },
  {
   "cell_type": "code",
   "execution_count": 6,
   "metadata": {},
   "outputs": [
    {
     "name": "stdout",
     "output_type": "stream",
     "text": [
      "<class 'tuple'>\n"
     ]
    }
   ],
   "source": [
    "print (type(tup))"
   ]
  },
  {
   "cell_type": "markdown",
   "metadata": {},
   "source": [
    "#### Ahora intenta agregar los siguientes elementos a `tup`.\n",
    "\n",
    "¿Puedes hacerlo? Explica.\n",
    "\n",
    "```\n",
    "\"r\", \"o\", \"n\", \"h\", \"a\", \"c\", \"k',\n",
    "```"
   ]
  },
  {
   "cell_type": "code",
   "execution_count": 7,
   "metadata": {
    "scrolled": true
   },
   "outputs": [],
   "source": [
    "# No se puede modificar directamente una tupla después de haberla creado, ya que según entendi, las tuplas son inmutables en Python. \n",
    "#porque, una vez que se crea una tupla, no se puede agregar, eliminar ni cambiar sus elementos."
   ]
  },
  {
   "cell_type": "code",
   "execution_count": 8,
   "metadata": {},
   "outputs": [],
   "source": [
    "# En Python, no se puede reasignar elementos a una tupla existente debido a su naturaleza inmutable. he entendido que una vez que se crea una tupla, no se puede modificar sus elementos de manera directa.\n",
    "#Si quisiera asignar nuevos valores a tup, creo que lo mejor sería crear una nueva tupla"
   ]
  },
  {
   "cell_type": "markdown",
   "metadata": {},
   "source": [
    "#### Divide `tup` en `tup1` y `tup2` con 4 elementos en cada una.\n",
    "\n",
    "`tup1` debe ser `(\"I\", \"r\", \"o\", \"n\")` y `tup2` debe ser `(\"h\", \"a\", \"c\", \"k\")`.\n",
    "\n",
    "*Sugerencia: usa números de índice positivos para la asignación de `tup1` y números de índice negativos para la asignación de `tup2`. Los números de índice positivos cuentan desde el principio, mientras que los números de índice negativos cuentan desde el final de la secuencia.*\n",
    "\n",
    "También imprime `tup1` y `tup2`."
   ]
  },
  {
   "cell_type": "code",
   "execution_count": 9,
   "metadata": {},
   "outputs": [
    {
     "name": "stdout",
     "output_type": "stream",
     "text": [
      "tup1: ('I', 'r', 'o', 'n')\n",
      "tup2: ('h', 'a', 'c', 'k')\n"
     ]
    }
   ],
   "source": [
    "#he tenido que reemplazar tup por una nueva tup con los nuevos elementos ya que en las preguntas de antes no creo que fuera correcto hacerlo.\n",
    "\n",
    "tup = (\"I\", \"r\", \"o\", \"n\", \"h\", \"a\", \"c\", \"k\")\n",
    "\n",
    "tup1 = tup[:4]\n",
    "tup2 = tup[4:]\n",
    "\n",
    "print(\"tup1:\", tup1)\n",
    "print(\"tup2:\", tup2)"
   ]
  },
  {
   "cell_type": "markdown",
   "metadata": {},
   "source": [
    "#### Suma `tup1` y `tup2` en `tup3` usando el operador `+`.\n",
    "\n",
    "Luego imprime `tup3` y verifica si `tup3` es igual a `tup`."
   ]
  },
  {
   "cell_type": "code",
   "execution_count": 15,
   "metadata": {},
   "outputs": [
    {
     "name": "stdout",
     "output_type": "stream",
     "text": [
      "tup3: ('I', 'r', 'o', 'n', 'h', 'a', 'c', 'k')\n",
      "¿tup3 es igual a tup? True\n"
     ]
    }
   ],
   "source": [
    "tup3 = (tup1 + tup2)\n",
    "print(\"tup3:\", tup3)\n",
    "\n",
    "#verificar si tup3 es igual a tup\n",
    "tup = (\"I\", \"r\", \"o\", \"n\", \"h\", \"a\", \"c\", \"k\")\n",
    "\n",
    "print(\"¿tup3 es igual a tup?\" , tup3==tup)"
   ]
  },
  {
   "cell_type": "markdown",
   "metadata": {},
   "source": [
    "#### Cuenta el número de elementos en `tup1` y `tup2`. Luego suma los dos conteos y verifica si la suma es igual al número de elementos en `tup3`."
   ]
  },
  {
   "cell_type": "code",
   "execution_count": 31,
   "metadata": {},
   "outputs": [
    {
     "name": "stdout",
     "output_type": "stream",
     "text": [
      "Número de elementos en tup1: 4\n",
      "Número de elementos en tup2: 4\n",
      "Suma de los conteos: 8\n",
      "Número de elementos en tup3: 8\n",
      "Es la suma de los dos conteos igual al número de elementos en tup3: True\n"
     ]
    }
   ],
   "source": [
    "#numero de elementos en tup1 y tup2\n",
    "tup1 = ('I', 'r', 'o', 'n')\n",
    "tup2 = ('h', 'a', 'c', 'k')\n",
    "\n",
    "#suma de tup1 y tup2 para crear tup3\n",
    "tup3 = (tup1 + tup2)\n",
    "\n",
    "count_tup1 = len(tup1)\n",
    "count_tup2 = len(tup2)\n",
    "\n",
    "#suma de ambos conteos\n",
    "\n",
    "total_count = count_tup1 + count_tup2\n",
    "\n",
    "#verificación de elementos de tup3\n",
    "\n",
    "count_tup3 = len(tup3)\n",
    "\n",
    "print(\"Número de elementos en tup1:\", count_tup1)\n",
    "print(\"Número de elementos en tup2:\", count_tup2)\n",
    "print(\"Suma de los conteos:\", total_count)\n",
    "print(\"Número de elementos en tup3:\", count_tup3)\n",
    "print(\"Es la suma de los dos conteos igual al número de elementos en tup3:\", total_count==count_tup3)\n",
    "\n"
   ]
  },
  {
   "cell_type": "markdown",
   "metadata": {},
   "source": [
    "#### ¿Cuál es el número de índice de `\"h\"` en `tup3`?"
   ]
  },
  {
   "cell_type": "code",
   "execution_count": 33,
   "metadata": {},
   "outputs": [
    {
     "name": "stdout",
     "output_type": "stream",
     "text": [
      "el indice de h en tup3 es: 4\n"
     ]
    }
   ],
   "source": [
    "# El indice h en tup3\n",
    "\n",
    "index_h = tup3.index(\"h\")\n",
    "\n",
    "print(\"el indice de h en tup3 es:\", index_h)\n"
   ]
  },
  {
   "cell_type": "code",
   "execution_count": 35,
   "metadata": {},
   "outputs": [
    {
     "name": "stdout",
     "output_type": "stream",
     "text": [
      "a está en tup3: True\n",
      "b está en tup3: False\n",
      "c está en tup3: True\n",
      "d está en tup3: False\n",
      "e está en tup3: False\n"
     ]
    }
   ],
   "source": [
    "#elementos en tup1 y tup2\n",
    "tup1 = ('I', 'r', 'o', 'n')\n",
    "tup2 = ('h', 'a', 'c', 'k')\n",
    "\n",
    "#suma de tup1 y tup2 para crear tup3\n",
    "tup3 = (tup1 + tup2)\n",
    "\n",
    "# Lista de letras a verificar\n",
    "letters = [\"a\", \"b\", \"c\", \"d\", \"e\"]\n",
    "\n",
    "#Bucle for para verificar que letra esta en tup3\n",
    "for letter in letters:\n",
    "    print(letter, \"está en tup3:\", letter in tup3)"
   ]
  },
  {
   "cell_type": "markdown",
   "metadata": {},
   "source": [
    "#### ¿Cuántas veces aparece cada letra de `letters` en `tup3`?\n",
    "\n",
    "Imprime el número de ocurrencias de cada letra."
   ]
  },
  {
   "cell_type": "code",
   "execution_count": 36,
   "metadata": {},
   "outputs": [],
   "source": [
    "# En esta no me salio, no me quedo claro como puedo hacer para contar cuantas veces aparece cada letra "
   ]
  },
  {
   "cell_type": "markdown",
   "metadata": {},
   "source": [
    "## Desafío 2: Conjuntos\n",
    "\n",
    "Hay mucho que aprender sobre los Conjuntos en Python y la información presentada en la lección es limitada debido a su longitud. Para aprender a fondo sobre los Conjuntos en Python, te recomendamos encarecidamente que revises el tutorial de W3Schools sobre [Ejemplos y Métodos de Conjuntos en Python](https://www.w3schools.com/python/python_sets.asp) antes de trabajar en este laboratorio. Algunas preguntas difíciles de este laboratorio tienen sus soluciones en el tutorial de W3Schools.\n",
    "\n",
    "#### Primero, importa la biblioteca `random` de Python."
   ]
  },
  {
   "cell_type": "code",
   "execution_count": 37,
   "metadata": {},
   "outputs": [],
   "source": [
    "import random"
   ]
  },
  {
   "cell_type": "markdown",
   "metadata": {},
   "source": [
    "#### En la celda de abajo, crea una lista llamada `sample_list_1` con 80 valores aleatorios.\n",
    "\n",
    "Requisitos:\n",
    "\n",
    "* Cada valor es un entero entre 0 y 100.\n",
    "* Cada valor en la lista es único.\n",
    "\n",
    "Imprime `sample_list_1` para revisar sus valores.\n",
    "\n",
    "*Sugerencia: usa `random.sample` ([referencia](https://docs.python.org/3/library/random.html#random.sample)).*"
   ]
  },
  {
   "cell_type": "code",
   "execution_count": 38,
   "metadata": {},
   "outputs": [
    {
     "name": "stdout",
     "output_type": "stream",
     "text": [
      "[78, 64, 51, 77, 19, 21, 7, 86, 27, 50, 22, 57, 89, 30, 66, 48, 61, 26, 90, 42, 84, 6, 33, 63, 14, 17, 44, 98, 94, 40, 54, 69, 34, 8, 16, 99, 72, 74, 39, 55, 0, 31, 75, 3, 13, 32, 62, 88, 80, 2, 96, 92, 25, 29, 45, 49, 100, 43, 73, 83, 97, 37, 60, 81, 4, 9, 38, 58, 24, 79, 20, 87, 91, 41, 56, 12, 76, 68, 71, 85]\n"
     ]
    }
   ],
   "source": [
    "import random\n",
    "\n",
    "# generar una lista con 80 valores únicos entre 0 y 100\n",
    "sample_list_1 = random.sample(range(101), 80)\n",
    "\n",
    "# Imprimir la lista generada\n",
    "print(sample_list_1)"
   ]
  },
  {
   "cell_type": "markdown",
   "metadata": {},
   "source": [
    "#### Convierte `sample_list_1` en un conjunto llamado `set1`. Imprime la longitud del conjunto. ¿Su longitud sigue siendo 80?"
   ]
  },
  {
   "cell_type": "code",
   "execution_count": 47,
   "metadata": {},
   "outputs": [
    {
     "name": "stdout",
     "output_type": "stream",
     "text": [
      "Conjunto creado: {0, 2, 3, 4, 6, 7, 8, 9, 12, 13, 14, 16, 17, 19, 20, 21, 22, 24, 25, 26, 27, 29, 30, 31, 32, 33, 34, 37, 38, 39, 40, 41, 42, 43, 44, 45, 48, 49, 50, 51, 54, 55, 56, 57, 58, 60, 61, 62, 63, 64, 66, 68, 69, 71, 72, 73, 74, 75, 76, 77, 78, 79, 80, 81, 83, 84, 85, 86, 87, 88, 89, 90, 91, 92, 94, 96, 97, 98, 99, 100}\n",
      "Longitud del conjunto: 80\n",
      "¿Su longitud sigue siendo 80? True\n"
     ]
    }
   ],
   "source": [
    "#convirtiendo lista en un conjunto\n",
    "\n",
    "set1 = set(sample_list_1)\n",
    "print(\"Conjunto creado:\", set1)\n",
    "Longitud = 80\n",
    "\n",
    "# Verificar la longitud del conjunto\n",
    "\n",
    "len_set1 = len(set1)\n",
    "print(\"Longitud del conjunto:\", len_set1)\n",
    "print(\"¿Su longitud sigue siendo 80?\", len_set1==Longitud)"
   ]
  },
  {
   "cell_type": "markdown",
   "metadata": {},
   "source": [
    "#### Crea otra lista llamada `sample_list_2` con 80 valores aleatorios.\n",
    "\n",
    "Requisitos:\n",
    "\n",
    "* Cada valor es un entero entre 0 y 100.\n",
    "* Los valores en la lista no tienen que ser únicos.\n",
    "\n",
    "*Sugerencia: Usa un bucle FOR.*"
   ]
  },
  {
   "cell_type": "code",
   "execution_count": 41,
   "metadata": {},
   "outputs": [
    {
     "name": "stdout",
     "output_type": "stream",
     "text": [
      "Lista con valores aleatorios: [29, 40, 41, 79, 32, 92, 71, 89, 22, 33, 26, 64, 4, 8, 65, 59, 73, 94, 40, 85, 64, 23, 26, 96, 40, 31, 33, 57, 91, 54, 98, 4, 18, 17, 66, 34, 45, 24, 26, 64, 29, 50, 26, 40, 33, 53, 78, 48, 23, 69, 20, 70, 63, 14, 83, 83, 19, 65, 78, 99, 79, 76, 63, 23, 49, 46, 94, 14, 39, 37, 99, 8, 95, 81, 44, 13, 99, 2, 81, 72]\n"
     ]
    }
   ],
   "source": [
    "import random\n",
    "\n",
    "#generar una lista con 80 valores diferentes entre 0 y 100\n",
    "sample_list_2 = [random.randrange(0,100) for _ in range(80)]  \n",
    "\n",
    "#lista con valores aleatorios\n",
    "print(\"Lista con valores aleatorios:\", sample_list_2)\n"
   ]
  },
  {
   "cell_type": "markdown",
   "metadata": {},
   "source": [
    "#### Convierte `sample_list_2` en un conjunto llamado `set2`. Imprime la longitud del conjunto. ¿Su longitud sigue siendo 80?"
   ]
  },
  {
   "cell_type": "code",
   "execution_count": 46,
   "metadata": {},
   "outputs": [
    {
     "name": "stdout",
     "output_type": "stream",
     "text": [
      "Conjunto creado: {2, 4, 8, 13, 14, 17, 18, 19, 20, 22, 23, 24, 26, 29, 31, 32, 33, 34, 37, 39, 40, 41, 44, 45, 46, 48, 49, 50, 53, 54, 57, 59, 63, 64, 65, 66, 69, 70, 71, 72, 73, 76, 78, 79, 81, 83, 85, 89, 91, 92, 94, 95, 96, 98, 99}\n",
      "Longitud del conjunto: 55\n",
      "¿Su longitud sigue siendo 80? False\n"
     ]
    }
   ],
   "source": [
    "#convirtiendo lista 2 en un conjunto\n",
    "\n",
    "set2 = set(sample_list_2)\n",
    "print(\"Conjunto creado:\", set2)\n",
    "Longitud = 80\n",
    "\n",
    "# Verificar la longitud del conjunto\n",
    "\n",
    "len_set2 = len(set2)\n",
    "print(\"Longitud del conjunto:\", len_set2)\n",
    "print(\"¿Su longitud sigue siendo 80?\", len_set2==Longitud)"
   ]
  },
  {
   "cell_type": "markdown",
   "metadata": {},
   "source": [
    "#### Identifica los elementos presentes en `set1` pero no en `set2`. Asigna los elementos a un nuevo conjunto llamado `set3`."
   ]
  },
  {
   "cell_type": "code",
   "execution_count": 53,
   "metadata": {},
   "outputs": [
    {
     "name": "stdout",
     "output_type": "stream",
     "text": [
      "Conjunto set1: {0, 1, 3, 4, 6, 9, 10, 11, 13, 14, 15, 16, 19, 20, 21, 22, 23, 24, 25, 26, 27, 28, 29, 30, 31, 32, 35, 37, 38, 39, 41, 43, 44, 45, 46, 47, 50, 51, 52, 53, 54, 56, 57, 58, 59, 60, 61, 62, 63, 64, 65, 66, 67, 68, 69, 70, 71, 72, 73, 74, 77, 79, 81, 82, 84, 85, 86, 87, 88, 89, 90, 91, 92, 93, 94, 95, 96, 98, 99, 100}\n",
      "Conjunto set2: {1, 2, 3, 5, 8, 10, 11, 12, 13, 19, 20, 21, 23, 25, 26, 27, 28, 30, 31, 32, 33, 34, 35, 36, 38, 39, 44, 45, 46, 48, 50, 51, 52, 53, 59, 60, 63, 65, 70, 74, 78, 79, 80, 82, 85, 86, 88, 90, 91, 92, 93, 94, 95, 96, 98, 99}\n",
      "Elementos en set1 pero no en set2 (set3): {0, 4, 6, 9, 14, 15, 16, 22, 24, 29, 37, 41, 43, 47, 54, 56, 57, 58, 61, 62, 64, 66, 67, 68, 69, 71, 72, 73, 77, 81, 84, 87, 89, 100}\n"
     ]
    }
   ],
   "source": [
    "# Generando sample_list_1 y convertirla en set1\n",
    "sample_list_1 = random.sample(range(101), 80)\n",
    "set1 = set(sample_list_1)\n",
    "\n",
    "# Generando sample_list_2 y convertirla en set2\n",
    "sample_list_2 = [random.randrange(0, 100) for _ in range(80)]\n",
    "set2 = set(sample_list_2)\n",
    "\n",
    "#Calculando los elementos de set1 que no están en set2\n",
    "set3 = set1.difference(set2)\n",
    "\n",
    "print(\"Conjunto set1:\", set1)\n",
    "print(\"Conjunto set2:\", set2)\n",
    "print(\"Elementos en set1 pero no en set2 (set3):\", set3)\n"
   ]
  },
  {
   "cell_type": "markdown",
   "metadata": {},
   "source": [
    "#### Identifica los elementos presentes en `set2` pero no en `set1`. Asigna los elementos a un nuevo conjunto llamado `set4`."
   ]
  },
  {
   "cell_type": "code",
   "execution_count": 55,
   "metadata": {},
   "outputs": [
    {
     "name": "stdout",
     "output_type": "stream",
     "text": [
      "Elementos en set2 pero no en set1 (set4): {33, 2, 34, 36, 5, 8, 12, 78, 48, 80}\n"
     ]
    }
   ],
   "source": [
    "#Calculando los elementos de set1 que no están en set2\n",
    "\n",
    "set4 = set2.difference(set1)\n",
    "\n",
    "print(\"Elementos en set2 pero no en set1 (set4):\", set4)"
   ]
  },
  {
   "cell_type": "markdown",
   "metadata": {},
   "source": [
    "#### Ahora identifica los elementos compartidos entre `set1` y `set2`. Asigna los elementos a un nuevo conjunto llamado `set5`."
   ]
  },
  {
   "cell_type": "code",
   "execution_count": 58,
   "metadata": {},
   "outputs": [
    {
     "name": "stdout",
     "output_type": "stream",
     "text": [
      "elementos compartidos entre set1 y set2: {1, 3, 10, 11, 13, 19, 20, 21, 23, 25, 26, 27, 28, 30, 31, 32, 35, 38, 39, 44, 45, 46, 50, 51, 52, 53, 59, 60, 63, 65, 70, 74, 79, 82, 85, 86, 88, 90, 91, 92, 93, 94, 95, 96, 98, 99}\n",
      "valores: 46\n"
     ]
    }
   ],
   "source": [
    "#Elementos compartidos entre set1 y set2\n",
    "\n",
    "set5 = set1.intersection(set2)\n",
    "\n",
    "print(\"elementos compartidos entre set1 y set2:\", set5)\n",
    "\n"
   ]
  },
  {
   "cell_type": "markdown",
   "metadata": {},
   "source": [
    "#### ¿Cuál es la relación entre los siguientes valores?\n",
    "\n",
    "* len(set1)\n",
    "* len(set2)\n",
    "* len(set3)\n",
    "* len(set4)\n",
    "* len(set5)\n",
    "\n",
    "Usa una fórmula matemática para representar esa relación. Prueba tu fórmula con código Python."
   ]
  },
  {
   "cell_type": "code",
   "execution_count": 64,
   "metadata": {},
   "outputs": [
    {
     "name": "stdout",
     "output_type": "stream",
     "text": [
      "valores set1: 80\n",
      "valores set2: 56\n",
      "valores set3: 34\n",
      "valores set4: 10\n",
      "valores set5: 10\n",
      "¿Es el set4 igual al set5?: True\n"
     ]
    }
   ],
   "source": [
    "#valores, este problema no me quedo claro que es lo que tenia que hacer\n",
    "\n",
    "len_set1 = len(set1)\n",
    "len_set2 = len(set2)\n",
    "len_set3 = len(set3)\n",
    "len_set4 = len(set4)\n",
    "len_set5 = len(set4)\n",
    "\n",
    "print(\"valores set1:\", len_set1)\n",
    "print(\"valores set2:\", len_set2)\n",
    "print(\"valores set3:\", len_set3)\n",
    "print(\"valores set4:\", len_set4)\n",
    "print(\"valores set5:\", len_set5)\n",
    "\n",
    "print(\"¿Es el set4 igual al set5?:\", len_set4==len_set5)\n",
    "\n"
   ]
  },
  {
   "cell_type": "markdown",
   "metadata": {},
   "source": [
    "#### Crea un conjunto vacío llamado `set6`."
   ]
  },
  {
   "cell_type": "code",
   "execution_count": 65,
   "metadata": {},
   "outputs": [
    {
     "name": "stdout",
     "output_type": "stream",
     "text": [
      "set()\n"
     ]
    }
   ],
   "source": [
    "#conjunto vacio\n",
    "\n",
    "set6 = set()\n",
    "print(set6)  # Salida: set()"
   ]
  },
  {
   "cell_type": "markdown",
   "metadata": {},
   "source": [
    "#### Añade `set3` y `set5` a `set6` usando el método `update` de los Conjuntos de Python."
   ]
  },
  {
   "cell_type": "code",
   "execution_count": 66,
   "metadata": {},
   "outputs": [
    {
     "name": "stdout",
     "output_type": "stream",
     "text": [
      "{0, 1, 3, 4, 6, 9, 10, 11, 13, 14, 15, 16, 19, 20, 21, 22, 23, 24, 25, 26, 27, 28, 29, 30, 31, 32, 35, 37, 38, 39, 41, 43, 44, 45, 46, 47, 50, 51, 52, 53, 54, 56, 57, 58, 59, 60, 61, 62, 63, 64, 65, 66, 67, 68, 69, 70, 71, 72, 73, 74, 77, 79, 81, 82, 84, 85, 86, 87, 88, 89, 90, 91, 92, 93, 94, 95, 96, 98, 99, 100}\n"
     ]
    }
   ],
   "source": [
    "# Añadiendo sets a set6\n",
    "\n",
    "set6 = set()\n",
    "set6.update(set3, set5)\n",
    "\n",
    "print(set6)"
   ]
  },
  {
   "cell_type": "markdown",
   "metadata": {},
   "source": [
    "#### Verifica si `set1` y `set6` son iguales."
   ]
  },
  {
   "cell_type": "code",
   "execution_count": 18,
   "metadata": {},
   "outputs": [
    {
     "name": "stdout",
     "output_type": "stream",
     "text": [
      "¿Son los set1 y set6 iguales?: True\n"
     ]
    }
   ],
   "source": [
    "import random\n",
    "\n",
    "# generar una lista con 80 valores únicos entre 0 y 100\n",
    "sample_list_1 = random.sample(range(101), 80)\n",
    "\n",
    "# Generando sample_list_1 y convertirla en set1\n",
    "sample_list_1 = random.sample(range(101), 80)\n",
    "set1 = set(sample_list_1)\n",
    "\n",
    "# Generando sample_list_2 y convertirla en set2\n",
    "sample_list_2 = [random.randrange(0, 100) for _ in range(80)]\n",
    "set2 = set(sample_list_2)\n",
    "\n",
    "#Creando set3\n",
    "set3 = set1.difference(set2)\n",
    "\n",
    "#creando set5\n",
    "set5 = set1.intersection(set2)\n",
    "\n",
    "# Añadiendo sets a set6\n",
    "set6 = set()\n",
    "set6.update(set3, set5)\n",
    "\n",
    "\n",
    "# verificando sets\n",
    "\n",
    "print(\"¿Son los set1 y set6 iguales?:\", set1==set6)"
   ]
  },
  {
   "cell_type": "code",
   "execution_count": null,
   "metadata": {},
   "outputs": [],
   "source": [
    "Comprueba si set1 contiene a set2 utilizando el método issubset de los Conjuntos de Python. Luego verifica si set1 contiene a set3"
   ]
  },
  {
   "cell_type": "code",
   "execution_count": 20,
   "metadata": {},
   "outputs": [
    {
     "name": "stdout",
     "output_type": "stream",
     "text": [
      "¿set2 es un subconjunto de set1?: False\n",
      "¿set3 es un subconjunto de set1?: True\n"
     ]
    }
   ],
   "source": [
    "# Generando sample_list_2 y convertirla en set2\n",
    "sample_list_2 = [random.randrange(0, 100) for _ in range(80)]\n",
    "set2 = set(sample_list_2)\n",
    "\n",
    "#Creando set3\n",
    "set3 = set1.difference(set2)\n",
    "\n",
    "## Verificar relaciones de subconjuntos\n",
    "is_set2_subset_of_set1 = set2.issubset(set1)\n",
    "is_set3_subset_of_set1 = set3.issubset(set1)\n",
    "\n",
    "# Imprimir resultados\n",
    "print(\"¿set2 es un subconjunto de set1?:\", is_set2_subset_of_set1)\n",
    "print(\"¿set3 es un subconjunto de set1?:\", is_set3_subset_of_set1)"
   ]
  },
  {
   "cell_type": "markdown",
   "metadata": {},
   "source": [
    "#### Utilizando el método `union` de los Conjuntos de Python, agrega `set3`, `set4` y `set5`. Luego agrega `set1` y `set2`.\n",
    "\n",
    "#### Verifica si los valores agregados son iguales."
   ]
  },
  {
   "cell_type": "code",
   "execution_count": null,
   "metadata": {},
   "outputs": [],
   "source": [
    "# union de conjuntos\n",
    "#tengo dudas con este problema"
   ]
  },
  {
   "cell_type": "markdown",
   "metadata": {},
   "source": [
    "#### Utilizando el método `pop`, elimina el primer elemento de `set1`."
   ]
  },
  {
   "cell_type": "code",
   "execution_count": 33,
   "metadata": {},
   "outputs": [
    {
     "name": "stdout",
     "output_type": "stream",
     "text": [
      "valores de set: {5, 6, 7, 11, 12, 14, 15, 17, 18, 19, 20, 21, 22, 23, 24, 25, 27, 28, 29, 30, 31, 32, 33, 34, 37, 38, 39, 40, 41, 42, 43, 44, 46, 47, 48, 49, 51, 52, 54, 56, 57, 58, 59, 60, 61, 62, 63, 64, 65, 66, 68, 72, 73, 74, 75, 76, 77, 78, 79, 80, 81, 83, 84, 85, 87, 90, 91, 92, 93, 94, 95, 96, 97, 98, 99, 100}\n",
      "Primer elemento eliminado: 4\n"
     ]
    }
   ],
   "source": [
    "#aplicando el metodo pop, lo probe como 3 veces y me elimino cada vez que corri el codigo, un numero, por eso se quedo en 4 pero en el inicio salia 1\n",
    "elemento = set1.pop()\n",
    "\n",
    "print(\"valores de set:\", set1)\n",
    "print(\"Primer elemento eliminado:\", elemento)"
   ]
  },
  {
   "cell_type": "markdown",
   "metadata": {},
   "source": [
    "#### Elimina cada elemento en la siguiente lista de `set1` si están presentes en el conjunto. Imprime los elementos restantes.\n",
    "\n",
    "```\n",
    "list_to_remove = [1, 9, 11, 19, 21, 29, 31, 39, 41, 49, 51, 59, 61, 69, 71, 79, 81, 89, 91, 99]\n",
    "```"
   ]
  },
  {
   "cell_type": "code",
   "execution_count": null,
   "metadata": {},
   "outputs": [],
   "source": [
    "# usando remove method\n",
    "\n",
    "#no me salio este, no lo logre comprender del todo"
   ]
  },
  {
   "cell_type": "markdown",
   "metadata": {},
   "source": [
    "## BONUS - Desafío 3: Diccionarios\n",
    "\n",
    "En este desafío practicarás cómo manipular diccionarios en Python. Antes de empezar este desafío, te animamos a revisar los [Ejemplos y Métodos de Diccionarios en Python](https://www.w3schools.com/python/python_dictionaries.asp) de W3School.\n",
    "\n",
    "Lo primero que practicarás es cómo ordenar las claves en un diccionario. A diferencia del objeto de lista, el diccionario de Python no tiene un método *sort* incorporado. Necesitarás usar bucles FOR para ordenar los diccionarios ya sea por clave o por valor.\n",
    "\n",
    "El diccionario a continuación es un resumen de la frecuencia de palabras de la canción *Shape of You* de Ed Sheeran. Cada clave es una palabra en la letra y el valor es el número de veces que esa palabra aparece en la letra."
   ]
  },
  {
   "cell_type": "code",
   "execution_count": null,
   "metadata": {},
   "outputs": [],
   "source": [
    "word_freq = {'love': 25, 'conversation': 1, 'every': 6, \"we're\": 1, 'plate': 1, 'sour': 1, 'jukebox': 1, 'now': 11, 'taxi': 1, 'fast': 1, 'bag': 1, 'man': 1, 'push': 3, 'baby': 14, 'going': 1, 'you': 16, \"don't\": 2, 'one': 1, 'mind': 2, 'backseat': 1, 'friends': 1, 'then': 3, 'know': 2, 'take': 1, 'play': 1, 'okay': 1, 'so': 2, 'begin': 1, 'start': 2, 'over': 1, 'body': 17, 'boy': 2, 'just': 1, 'we': 7, 'are': 1, 'girl': 2, 'tell': 1, 'singing': 2, 'drinking': 1, 'put': 3, 'our': 1, 'where': 1, \"i'll\": 1, 'all': 1, \"isn't\": 1, 'make': 1, 'lover': 1, 'get': 1, 'radio': 1, 'give': 1, \"i'm\": 23, 'like': 10, 'can': 1, 'doing': 2, 'with': 22, 'club': 1, 'come': 37, 'it': 1, 'somebody': 2, 'handmade': 2, 'out': 1, 'new': 6, 'room': 3, 'chance': 1, 'follow': 6, 'in': 27, 'may': 2, 'brand': 6, 'that': 2, 'magnet': 3, 'up': 3, 'first': 1, 'and': 23, 'pull': 3, 'of': 6, 'table': 1, 'much': 2, 'last': 3, 'i': 6, 'thrifty': 1, 'grab': 2, 'was': 2, 'driver': 1, 'slow': 1, 'dance': 1, 'the': 18, 'say': 2, 'trust': 1, 'family': 1, 'week': 1, 'date': 1, 'me': 10, 'do': 3, 'waist': 2, 'smell': 3, 'day': 6, 'although': 3, 'your': 21, 'leave': 1, 'want': 2, \"let's\": 2, 'lead': 6, 'at': 1, 'hand': 1, 'how': 1, 'talk': 4, 'not': 2, 'eat': 1, 'falling': 3, 'about': 1, 'story': 1, 'sweet': 1, 'best': 1, 'crazy': 2, 'let': 1, 'too': 5, 'van': 1, 'shots': 1, 'go': 2, 'to': 2, 'a': 8, 'my': 33, 'is': 5, 'place': 1, 'find': 1, 'shape': 6, 'on': 40, 'kiss': 1, 'were': 3, 'night': 3, 'heart': 3, 'for': 3, 'discovering': 6, 'something': 6, 'be': 16, 'bedsheets': 3, 'fill': 2, 'hours': 2, 'stop': 1, 'bar': 1}"
   ]
  },
  {
   "cell_type": "markdown",
   "metadata": {},
   "source": [
    "#### Ordena las claves de `word_freq` de forma ascendente.\n",
    "\n",
    "Por favor, crea un nuevo diccionario llamado `word_freq2` basado en `word_freq` con las claves ordenadas de forma ascendente.\n",
    "\n",
    "Hay varias formas de lograr ese objetivo, pero muchas de ellas van más allá de lo que hemos cubierto hasta ahora en el curso. Hay una forma que describiremos empleando lo que has aprendido. Por favor, siéntete libre de usar esta forma o cualquier otra que desees.\n",
    "\n",
    "1. Primero extrae las claves de `word_freq` y conviértelas en una lista llamada `keys`.\n",
    "\n",
    "1. Ordena la lista `keys`.\n",
    "\n",
    "1. Crea un diccionario vacío `word_freq2`.\n",
    "\n",
    "1. Usa un bucle FOR para iterar cada valor en `keys`. Para cada clave iterada, encuentra el valor correspondiente en `word_freq` e inserta el par clave-valor en `word_freq2`.\n",
    "\n",
    "📖 [Documentación para un bucle for](https://docs.python.org/3/reference/compound_stmts.html#for)\n",
    "\n",
    "Imprime `word_freq2` para examinar sus claves y valores. Tu salida debería ser:\n",
    "\n",
    "```python\n",
    "{'a': 8, 'about': 1, 'all': 1, 'although': 3, 'and': 23, 'are': 1, 'at': 1, 'baby': 14, 'backseat': 1, 'bag': 1, 'bar': 1, 'be': 16, 'bedsheets': 3, 'begin': 1, 'best': 1, 'body': 17, 'boy': 2, 'brand': 6, 'can': 1, 'chance': 1, 'club': 1, 'come': 37, 'conversation': 1, 'crazy': 2, 'dance': 1, 'date': 1, 'day': 6, 'discovering': 6, 'do': 3, 'doing': 2, \"don't\": 2, 'drinking': 1, 'driver': 1, 'eat': 1, 'every': 6, 'falling': 3, 'family': 1, 'fast': 1, 'fill': 2, 'find': 1, 'first': 1, 'follow': 6, 'for': 3, 'friends': 1, 'get': 1, 'girl': 2, 'give': 1, 'go': 2, 'going': 1, 'grab': 2, 'hand': 1, 'handmade': 2, 'heart': 3, 'hours': 2, 'how': 1, 'i': 6, \"i'll\": 1, \"i'm\": 23, 'in': 27, 'is': 5, \"isn't\": 1, 'it': 1, 'jukebox': 1, 'just': 1, 'kiss': 1, 'know': 2, 'last': 3, 'lead': 6, 'leave': 1, 'let': 1, \"let's\": 2, 'like': 10, 'love': 25, 'lover': 1, 'magnet': 3, 'make': 1, 'man': 1, 'may': 2, 'me': 10, 'mind': 2, 'much': 2, 'my': 33, 'new': 6, 'night': 3, 'not': 2, 'now': 11, 'of': 6, 'okay': 1, 'on': 40, 'one': 1, 'our': 1, 'out': 1, 'over': 1, 'place': 1, 'plate': 1, 'play': 1, 'pull': 3, 'push': 3, 'put': 3, 'radio': 1, 'room': 3, 'say': 2, 'shape': 6, 'shots': 1, 'singing': 2, 'slow': 1, 'smell': 3, 'so': 2, 'somebody': 2, 'something': 6, 'sour': 1, 'start': 2, 'stop': 1, 'story': 1, 'sweet': 1, 'table': 1, 'take': 1, 'talk': 4, 'taxi': 1, 'tell': 1, 'that': 2, 'the': 18, 'then': 3, 'thrifty': 1, 'to': 2, 'too': 5, 'trust': 1, 'up': 3, 'van': 1, 'waist': 2, 'want': 2, 'was': 2, 'we': 7, \"we're\": 1, 'week': 1, 'were': 3, 'where': 1, 'with': 22, 'you': 16, 'your': 21}\n",
    "```"
   ]
  },
  {
   "cell_type": "code",
   "execution_count": null,
   "metadata": {},
   "outputs": [],
   "source": [
    "# Tu codigo aquí"
   ]
  },
  {
   "cell_type": "markdown",
   "metadata": {},
   "source": [
    "#### Ordena los valores de `word_freq` de forma ascendente.\n",
    "\n",
    "Ordenar los valores de un diccionario es más complicado que ordenar las claves porque los valores de un diccionario no son únicos. Por lo tanto, no puedes usar la misma forma en que ordenaste las claves del diccionario para ordenar los valores del diccionario.\n",
    "\n",
    "La forma de ordenar un diccionario por valor es utilizar las funciones `sorted` y `operator.itemgetter`. El siguiente fragmento de código se te proporciona para que lo pruebes. Te dará una lista de tuplas en la que cada tupla contiene la clave y el valor de un elemento del diccionario. Y la lista está ordenada basada en el valor del diccionario ( [referencia](http://thomas-cokelaer.info/blog/2017/12/how-to-sort-a-dictionary-by-values-in-python/)\n",
    ").\n",
    "\n",
    "```python\n",
    "import operator\n",
    "sorted_tups = sorted(word_freq.items(), key=operator.itemgetter(1))\n",
    "print(sorted_tups)\n",
    "```\n",
    "\n",
    "Por lo tanto, los pasos para ordenar `word_freq` por valor son:\n",
    "\n",
    "* Utilizando `sorted` y `operator.itemgetter`, obtén una lista de tuplas de los pares clave-valor del diccionario que está ordenada por el valor.\n",
    "\n",
    "* Crea un diccionario vacío llamado `word_freq2`.\n",
    "\n",
    "* Itera la lista de tuplas. Inserta cada par clave-valor en `word_freq2` como un objeto.\n",
    "\n",
    "Imprime `word_freq2` para confirmar que tu diccionario tiene sus valores ordenados. Tu salida debería ser:\n",
    "\n",
    "```python\n",
    "{'conversation': 1, \"we're\": 1, 'plate': 1, 'sour': 1, 'jukebox': 1, 'taxi': 1, 'fast': 1, 'bag': 1, 'man': 1, 'going': 1, 'one': 1, 'backseat': 1, 'friends': 1, 'take': 1, 'play': 1, 'okay': 1, 'begin': 1, 'over': 1, 'just': 1, 'are': 1, 'tell': 1, 'drinking': 1, 'our': 1, 'where': 1, \"i'll\": 1, 'all': 1, \"isn't\": 1, 'make': 1, 'lover': 1, 'get': 1, 'radio': 1, 'give': 1, 'can': 1, 'club': 1, 'it': 1, 'out': 1, 'chance': 1, 'first': 1, 'table': 1, 'thrifty': 1, 'driver': 1, 'slow': 1, 'dance': 1, 'trust': 1, 'family': 1, 'week': 1, 'date': 1, 'leave': 1, 'at': 1, 'hand': 1, 'how': 1, 'eat': 1, 'about': 1, 'story': 1, 'sweet': 1, 'best': 1, 'let': 1, 'van': 1, 'shots': 1, 'place': 1, 'find': 1, 'kiss': 1, 'stop': 1, 'bar': 1, \"don't\": 2, 'mind': 2, 'know': 2, 'so': 2, 'start': 2, 'boy': 2, 'girl': 2, 'singing': 2, 'doing': 2, 'somebody': 2, 'handmade': 2, 'may': 2, 'that': 2, 'much': 2, 'grab': 2, 'was': 2, 'say': 2, 'waist': 2, 'want': 2, \"let's\": 2, 'not': 2, 'crazy': 2, 'go': 2, 'to': 2, 'fill': 2, 'hours': 2, 'push': 3, 'then': 3, 'put': 3, 'room': 3, 'magnet': 3, 'up': 3, 'pull': 3, 'last': 3, 'do': 3, 'smell': 3, 'although': 3, 'falling': 3, 'were': 3, 'night': 3, 'heart': 3, 'for': 3, 'bedsheets': 3, 'talk': 4, 'too': 5, 'is': 5, 'every': 6, 'new': 6, 'follow': 6, 'brand': 6, 'of': 6, 'i': 6, 'day': 6, 'lead': 6, 'shape': 6, 'discovering': 6, 'something': 6, 'we': 7, 'a': 8, 'like': 10, 'me': 10, 'now': 11, 'baby': 14, 'you': 16, 'be': 16, 'body': 17, 'the': 18, 'your': 21, 'with': 22, \"i'm\": 23, 'and': 23, 'love': 25, 'in': 27, 'my': 33, 'come': 37, 'on': 40}\n",
    "```"
   ]
  },
  {
   "cell_type": "code",
   "execution_count": null,
   "metadata": {},
   "outputs": [],
   "source": [
    "# Tu codigo aquí"
   ]
  }
 ],
 "metadata": {
  "kernelspec": {
   "display_name": "Python 3 (ipykernel)",
   "language": "python",
   "name": "python3"
  },
  "language_info": {
   "codemirror_mode": {
    "name": "ipython",
    "version": 3
   },
   "file_extension": ".py",
   "mimetype": "text/x-python",
   "name": "python",
   "nbconvert_exporter": "python",
   "pygments_lexer": "ipython3",
   "version": "3.12.8"
  },
  "vscode": {
   "interpreter": {
    "hash": "aee8b7b246df8f9039afb4144a1f6fd8d2ca17a180786b69acc140d282b71a49"
   }
  }
 },
 "nbformat": 4,
 "nbformat_minor": 4
}
